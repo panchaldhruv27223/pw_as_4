{
 "cells": [
  {
   "cell_type": "markdown",
   "id": "b4c36d05",
   "metadata": {},
   "source": [
    "Q.1 What is Abstraction in OOps? Explain with an example."
   ]
  },
  {
   "cell_type": "code",
   "execution_count": null,
   "id": "079cd83d",
   "metadata": {},
   "outputs": [],
   "source": [
    "# abstraction in oop :\n",
    "#   it create a blue print for other class.\n",
    "#   means in abstraction  abstract method does not contain any implementation they are just declare. \n",
    "#   A class that contain that type of methods we called a abstract class "
   ]
  },
  {
   "cell_type": "code",
   "execution_count": 4,
   "id": "4975c6cb",
   "metadata": {},
   "outputs": [],
   "source": [
    "import abc\n",
    "\n",
    "class myabs():\n",
    "    @abc.abstractmethod\n",
    "    def drink_water(self):\n",
    "        pass\n",
    "    \n",
    "    @abc.abstractmethod\n",
    "    def ex_time(self):\n",
    "        pass\n",
    "\n",
    "class person_details(myabs):\n",
    "    def __init__(self,name):\n",
    "        self.name = name\n",
    "    def drink_water(self,x):\n",
    "        self.total_water = x\n",
    "        print(self.total_water)\n",
    "        \n",
    "    def ex_time(self):\n",
    "        print(\"minimum: 30 min\")"
   ]
  },
  {
   "cell_type": "code",
   "execution_count": 5,
   "id": "a2617e34",
   "metadata": {},
   "outputs": [],
   "source": [
    "p1 = person_details(\"dhruv\")"
   ]
  },
  {
   "cell_type": "code",
   "execution_count": 6,
   "id": "9aa1498e",
   "metadata": {},
   "outputs": [
    {
     "name": "stdout",
     "output_type": "stream",
     "text": [
      "1\n"
     ]
    }
   ],
   "source": [
    "p1.drink_water(1)"
   ]
  },
  {
   "cell_type": "code",
   "execution_count": 8,
   "id": "f9947d7a",
   "metadata": {},
   "outputs": [
    {
     "name": "stdout",
     "output_type": "stream",
     "text": [
      "minimum: 30 min\n"
     ]
    }
   ],
   "source": [
    "p1.ex_time()"
   ]
  },
  {
   "cell_type": "markdown",
   "id": "68d0b881",
   "metadata": {},
   "source": [
    "Q2. Differentiate between Abstraction and Encapsulation. Explain with an example."
   ]
  },
  {
   "cell_type": "code",
   "execution_count": 9,
   "id": "51bcac4f",
   "metadata": {},
   "outputs": [],
   "source": [
    "#  abstract just a blue print of class \n",
    "\n",
    "#  encapsulation is the process of hiding data. in encapsulation we don't give direct access to the user.\n"
   ]
  },
  {
   "cell_type": "code",
   "execution_count": 16,
   "id": "ef74d06d",
   "metadata": {},
   "outputs": [],
   "source": [
    "#  absraction \n",
    "import abc\n",
    "class car:\n",
    "    @abc.abstractmethod\n",
    "    def color(self):\n",
    "        pass\n",
    "    \n",
    "    @abc.abstractmethod\n",
    "    def high_speed(self):\n",
    "        pass\n",
    "    \n",
    "class ferrari(car):\n",
    "    model = \"ferrari 1991\"\n",
    "    def color(self):\n",
    "        print(\"red\")\n",
    "        \n",
    "    def high_speed(self):\n",
    "        print(297)\n",
    "        \n",
    "class lembo(car):\n",
    "    model = \"lemborging 1996\"\n",
    "    def color(self):\n",
    "        print(\"black\")\n",
    "        \n",
    "    def high_speed(self):\n",
    "        print(299)\n",
    "        \n",
    "        \n",
    "#  encapsulation   \n",
    "\n",
    "class car2:\n",
    "    def __init__(self , car_name,car_high_speed):\n",
    "        self.__carname = car_name\n",
    "        self.__carspeed = car_high_speed\n",
    "        \n",
    "    def set_speed(self,speed):\n",
    "        if speed >250:\n",
    "            self.__carspeed = speed\n",
    "\n",
    "    def details(self):\n",
    "        print(self.__carname,self.__carspeed)\n"
   ]
  },
  {
   "cell_type": "code",
   "execution_count": 22,
   "id": "8c2d854c",
   "metadata": {},
   "outputs": [
    {
     "name": "stdout",
     "output_type": "stream",
     "text": [
      "red\n",
      "297\n",
      "black\n",
      "299\n",
      "RR 200\n",
      "RR 260\n"
     ]
    }
   ],
   "source": [
    "#  abstraction\n",
    "c1 = ferrari()\n",
    "c1.color()\n",
    "c1.high_speed()\n",
    "c2=lembo()\n",
    "c2.color()\n",
    "c2.high_speed()\n",
    "\n",
    "\n",
    "# encapsulation\n",
    "\n",
    "c4 = car2(\"RR\",200)\n",
    "c4.details()\n",
    "# for set \n",
    "c4.set_speed(260)\n",
    "c4.details()"
   ]
  },
  {
   "cell_type": "markdown",
   "id": "c7618603",
   "metadata": {},
   "source": [
    "Q3. What is abc module in python? Why is it used?"
   ]
  },
  {
   "cell_type": "code",
   "execution_count": 23,
   "id": "dfadc21d",
   "metadata": {},
   "outputs": [],
   "source": [
    "ans :\n",
    "#  abc (Abstract Base Classes) \n",
    "#  abc module is in the python library that provide infrastructure for abstract class.\n",
    "#  abc module used to defining custome abstract class, abstract method .\n",
    "#  This is done by @abc.absttractmethod decorator"
   ]
  },
  {
   "cell_type": "markdown",
   "id": "a34655af",
   "metadata": {},
   "source": [
    "Q4. How can we achieve data abstraction?"
   ]
  },
  {
   "cell_type": "code",
   "execution_count": 24,
   "id": "e113190a",
   "metadata": {},
   "outputs": [],
   "source": [
    "# in python we can achive data abstraction using abc module .\n",
    "#  make abstract methods uisng @absttractmethod decorator \n",
    "#  one or more abstract methods create a abstract class \n",
    "#  uisng this types of modules and using this type of methods and class we can achive data abstraction ."
   ]
  },
  {
   "cell_type": "markdown",
   "id": "473ae40b",
   "metadata": {},
   "source": [
    "Q5. Can we create an instance of an abstract class? Explain your answer."
   ]
  },
  {
   "cell_type": "code",
   "execution_count": 25,
   "id": "d84b1bd5",
   "metadata": {},
   "outputs": [],
   "source": [
    "#  so we can create a instance of abstract class but it is meaning less because abstract class methods are also abstract method\n",
    "#  so abstract methods does't contain implementation they are just declare "
   ]
  },
  {
   "cell_type": "code",
   "execution_count": 26,
   "id": "d35997d1",
   "metadata": {},
   "outputs": [],
   "source": [
    "import abc\n",
    "class p1:\n",
    "    \n",
    "    @abc.abstractmethod\n",
    "    def name(self,name):\n",
    "        pass\n",
    "    @abc.abstractmethod\n",
    "    def age(self,age):\n",
    "        pass\n",
    "    @abc.abstractmethod\n",
    "    def detais(self):\n",
    "        pass\n",
    "    \n",
    "class c1(p1):\n",
    "    def name(self,name):\n",
    "        self.name = name\n",
    "\n",
    "    def age(self,age):\n",
    "        self.age =age\n",
    "        \n",
    "    def detais(self):\n",
    "        print(self.name,self.age)\n",
    "    "
   ]
  },
  {
   "cell_type": "code",
   "execution_count": 28,
   "id": "56497976",
   "metadata": {},
   "outputs": [
    {
     "name": "stdout",
     "output_type": "stream",
     "text": [
      "dhruv 19\n"
     ]
    }
   ],
   "source": [
    "d1 = c1()\n",
    "d1.name(\"dhruv\")\n",
    "d1.age(19)\n",
    "d1.detais()"
   ]
  },
  {
   "cell_type": "code",
   "execution_count": 30,
   "id": "e91659dd",
   "metadata": {},
   "outputs": [],
   "source": [
    "d2= p1()\n",
    "d2.age(13)\n",
    "d2.name(\"xyz\")\n",
    "d2.detais()\n",
    "\n",
    "#  its do nothing because all methods are just declare they are abstract method they do nothing"
   ]
  }
 ],
 "metadata": {
  "kernelspec": {
   "display_name": "Python 3 (ipykernel)",
   "language": "python",
   "name": "python3"
  },
  "language_info": {
   "codemirror_mode": {
    "name": "ipython",
    "version": 3
   },
   "file_extension": ".py",
   "mimetype": "text/x-python",
   "name": "python",
   "nbconvert_exporter": "python",
   "pygments_lexer": "ipython3",
   "version": "3.9.7"
  }
 },
 "nbformat": 4,
 "nbformat_minor": 5
}
